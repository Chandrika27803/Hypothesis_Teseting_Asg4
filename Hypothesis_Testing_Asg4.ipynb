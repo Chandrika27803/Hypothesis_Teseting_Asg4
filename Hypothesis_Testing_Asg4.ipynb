{
  "nbformat": 4,
  "nbformat_minor": 0,
  "metadata": {
    "colab": {
      "provenance": []
    },
    "kernelspec": {
      "name": "python3",
      "display_name": "Python 3"
    },
    "language_info": {
      "name": "python"
    }
  },
  "cells": [
    {
      "cell_type": "markdown",
      "source": [
        "**Chi-Square Test **"
      ],
      "metadata": {
        "id": "FmO8r-2rzFVu"
      }
    },
    {
      "cell_type": "code",
      "source": [
        "import numpy as np\n",
        "from scipy.stats import chi2_contingency\n"
      ],
      "metadata": {
        "id": "Fy3S-AbxzLbj"
      },
      "execution_count": null,
      "outputs": []
    },
    {
      "cell_type": "code",
      "source": [
        "# Data: Contingency table\n",
        "data = np.array([\n",
        "    [50, 70],  # Very Satisfied\n",
        "    [80, 100], # Satisfied\n",
        "    [60, 90],  # Neutral\n",
        "    [30, 50],  # Unsatisfied\n",
        "    [20, 50]   # Very Unsatisfied\n",
        "])"
      ],
      "metadata": {
        "id": "bTB8iXdazRRY"
      },
      "execution_count": null,
      "outputs": []
    },
    {
      "cell_type": "markdown",
      "source": [
        "# Step 1: State the Hypotheses\n",
        "# Null Hypothesis: Device type and customer satisfaction are independent.\n",
        "# Alternative Hypothesis: There is an association between device type and customer satisfaction.\n"
      ],
      "metadata": {
        "id": "bLLdnyhQzVO5"
      }
    },
    {
      "cell_type": "code",
      "source": [
        "# Step 2: Compute the Chi-Square Statistic\n",
        "chi2_stat, p_value, dof, expected = chi2_contingency(data)"
      ],
      "metadata": {
        "id": "9DsOl1eHzTpv"
      },
      "execution_count": null,
      "outputs": []
    },
    {
      "cell_type": "code",
      "source": [
        "# Step 3: Determine the Critical Value\n",
        "alpha = 0.05\n",
        "critical_value = chi2_contingency(data)[0]"
      ],
      "metadata": {
        "id": "NfudMGlvzeua"
      },
      "execution_count": null,
      "outputs": []
    },
    {
      "cell_type": "code",
      "source": [
        "# Step 4: Make a Decision\n",
        "if chi2_stat > critical_value:\n",
        "    decision = \"Reject the null hypothesis.\"\n",
        "else:\n",
        "    decision = \"Fail to reject the null hypothesis.\""
      ],
      "metadata": {
        "id": "JpYswJxhzgn0"
      },
      "execution_count": null,
      "outputs": []
    },
    {
      "cell_type": "code",
      "source": [
        "# Output Results\n",
        "print(f\"Chi-Square Statistic: {chi2_stat}\")\n",
        "print(f\"P-Value: {p_value}\")\n",
        "print(f\"Degrees of Freedom: {dof}\")\n",
        "print(f\"Expected Frequencies: \\n{expected}\")\n",
        "print(f\"Decision: {decision}\")"
      ],
      "metadata": {
        "colab": {
          "base_uri": "https://localhost:8080/"
        },
        "id": "5OT831zJzik_",
        "outputId": "cf87514b-41db-4245-9a9e-64c3ff327ea4"
      },
      "execution_count": null,
      "outputs": [
        {
          "output_type": "stream",
          "name": "stdout",
          "text": [
            "Chi-Square Statistic: 5.638227513227513\n",
            "P-Value: 0.22784371130697179\n",
            "Degrees of Freedom: 4\n",
            "Expected Frequencies: \n",
            "[[ 48.  72.]\n",
            " [ 72. 108.]\n",
            " [ 60.  90.]\n",
            " [ 32.  48.]\n",
            " [ 28.  42.]]\n",
            "Decision: Fail to reject the null hypothesis.\n"
          ]
        }
      ]
    },
    {
      "cell_type": "markdown",
      "source": [
        "**Hypothesis Testing**"
      ],
      "metadata": {
        "id": "WVK6iu0WznlS"
      }
    },
    {
      "cell_type": "code",
      "source": [
        "import scipy.stats as stats\n",
        "import math\n"
      ],
      "metadata": {
        "id": "QnEXdkEvzk_Z"
      },
      "execution_count": null,
      "outputs": []
    },
    {
      "cell_type": "code",
      "source": [
        "# Data\n",
        "sample_mean = 3050  # Mean weekly cost from the sample\n",
        "theoretical_mean = 1000 + 5 * 600  # Model mean weekly cost\n",
        "std_dev = 5 * 25  # Standard deviation\n",
        "sample_size = 25  # Sample size\n"
      ],
      "metadata": {
        "id": "r1WVTh5TzsTM"
      },
      "execution_count": null,
      "outputs": []
    },
    {
      "cell_type": "markdown",
      "source": [
        "# Step 1: State the Hypotheses\n",
        "# Null Hypothesis: The operating cost model is accurate (mean = theoretical mean).\n",
        "# Alternative Hypothesis: The operating cost is higher than the theoretical mean."
      ],
      "metadata": {
        "id": "OOo4WGmAzvP2"
      }
    },
    {
      "cell_type": "code",
      "source": [
        "# Step 2: Calculate the Test Statistic\n",
        "t_statistic = (sample_mean - theoretical_mean) / (std_dev / math.sqrt(sample_size))\n"
      ],
      "metadata": {
        "id": "0PedcXBkzuEU"
      },
      "execution_count": null,
      "outputs": []
    },
    {
      "cell_type": "code",
      "source": [
        "# Step 3: Determine the Critical Value\n",
        "alpha = 0.05\n",
        "critical_value = stats.norm.ppf(1 - alpha)"
      ],
      "metadata": {
        "id": "yu_Xkx52z0Uw"
      },
      "execution_count": null,
      "outputs": []
    },
    {
      "cell_type": "code",
      "source": [
        "# Step 4: Make a Decision\n",
        "if t_statistic > critical_value:\n",
        "    decision = \"Reject the null hypothesis.\"\n",
        "else:\n",
        "    decision = \"Fail to reject the null hypothesis.\""
      ],
      "metadata": {
        "id": "I5L4IwXnz2Gc"
      },
      "execution_count": null,
      "outputs": []
    },
    {
      "cell_type": "code",
      "source": [
        "# Step 5: Conclusion\n",
        "print(f\"Test Statistic (t): {t_statistic}\")\n",
        "print(f\"Critical Value: {critical_value}\")\n",
        "print(f\"Decision: {decision}\")"
      ],
      "metadata": {
        "colab": {
          "base_uri": "https://localhost:8080/"
        },
        "id": "hKWHK8PFz37y",
        "outputId": "ecc8f876-845d-4a7e-d21e-706bb4ea8340"
      },
      "execution_count": null,
      "outputs": [
        {
          "output_type": "stream",
          "name": "stdout",
          "text": [
            "Test Statistic (t): -38.0\n",
            "Critical Value: 1.6448536269514722\n",
            "Decision: Fail to reject the null hypothesis.\n"
          ]
        }
      ]
    },
    {
      "cell_type": "code",
      "source": [],
      "metadata": {
        "id": "VB3OrZK_z5kc"
      },
      "execution_count": null,
      "outputs": []
    }
  ]
}